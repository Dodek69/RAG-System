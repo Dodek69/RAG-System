{
 "cells": [
  {
   "cell_type": "code",
   "execution_count": 1,
   "metadata": {},
   "outputs": [],
   "source": [
    "# import importlib\n",
    "# import db_utils\n",
    "# importlib.reload(db_utils)"
   ]
  },
  {
   "cell_type": "code",
   "execution_count": 2,
   "metadata": {},
   "outputs": [
    {
     "name": "stdout",
     "output_type": "stream",
     "text": [
      "Requirement already satisfied: langchain-elasticsearch in c:\\users\\dodek\\desktop\\agh\\wdzb\\projekt\\rag-system\\.venv\\lib\\site-packages (0.2.2)\n",
      "Requirement already satisfied: langchain-community in c:\\users\\dodek\\desktop\\agh\\wdzb\\projekt\\rag-system\\.venv\\lib\\site-packages (0.2.4)\n",
      "Requirement already satisfied: tqdm in c:\\users\\dodek\\desktop\\agh\\wdzb\\projekt\\rag-system\\.venv\\lib\\site-packages (4.66.4)\n",
      "Requirement already satisfied: pypdf in c:\\users\\dodek\\desktop\\agh\\wdzb\\projekt\\rag-system\\.venv\\lib\\site-packages (4.2.0)\n",
      "Requirement already satisfied: streamlit in c:\\users\\dodek\\desktop\\agh\\wdzb\\projekt\\rag-system\\.venv\\lib\\site-packages (1.35.0)\n",
      "Requirement already satisfied: elasticsearch<9.0.0,>=8.13.1 in c:\\users\\dodek\\desktop\\agh\\wdzb\\projekt\\rag-system\\.venv\\lib\\site-packages (from elasticsearch[vectorstore-mmr]<9.0.0,>=8.13.1->langchain-elasticsearch) (8.14.0)\n",
      "Requirement already satisfied: langchain-core<0.3,>=0.1.50 in c:\\users\\dodek\\desktop\\agh\\wdzb\\projekt\\rag-system\\.venv\\lib\\site-packages (from langchain-elasticsearch) (0.2.5)\n",
      "Requirement already satisfied: PyYAML>=5.3 in c:\\users\\dodek\\desktop\\agh\\wdzb\\projekt\\rag-system\\.venv\\lib\\site-packages (from langchain-community) (6.0.1)\n",
      "Requirement already satisfied: SQLAlchemy<3,>=1.4 in c:\\users\\dodek\\desktop\\agh\\wdzb\\projekt\\rag-system\\.venv\\lib\\site-packages (from langchain-community) (2.0.30)\n",
      "Requirement already satisfied: aiohttp<4.0.0,>=3.8.3 in c:\\users\\dodek\\desktop\\agh\\wdzb\\projekt\\rag-system\\.venv\\lib\\site-packages (from langchain-community) (3.9.5)\n",
      "Requirement already satisfied: dataclasses-json<0.7,>=0.5.7 in c:\\users\\dodek\\desktop\\agh\\wdzb\\projekt\\rag-system\\.venv\\lib\\site-packages (from langchain-community) (0.6.7)\n",
      "Requirement already satisfied: langchain<0.3.0,>=0.2.0 in c:\\users\\dodek\\desktop\\agh\\wdzb\\projekt\\rag-system\\.venv\\lib\\site-packages (from langchain-community) (0.2.3)\n",
      "Requirement already satisfied: langsmith<0.2.0,>=0.1.0 in c:\\users\\dodek\\desktop\\agh\\wdzb\\projekt\\rag-system\\.venv\\lib\\site-packages (from langchain-community) (0.1.76)\n",
      "Requirement already satisfied: numpy<2,>=1 in c:\\users\\dodek\\desktop\\agh\\wdzb\\projekt\\rag-system\\.venv\\lib\\site-packages (from langchain-community) (1.26.4)\n",
      "Requirement already satisfied: requests<3,>=2 in c:\\users\\dodek\\desktop\\agh\\wdzb\\projekt\\rag-system\\.venv\\lib\\site-packages (from langchain-community) (2.32.3)\n",
      "Requirement already satisfied: tenacity<9.0.0,>=8.1.0 in c:\\users\\dodek\\desktop\\agh\\wdzb\\projekt\\rag-system\\.venv\\lib\\site-packages (from langchain-community) (8.3.0)\n",
      "Requirement already satisfied: colorama in c:\\users\\dodek\\desktop\\agh\\wdzb\\projekt\\rag-system\\.venv\\lib\\site-packages (from tqdm) (0.4.6)\n",
      "Requirement already satisfied: altair<6,>=4.0 in c:\\users\\dodek\\desktop\\agh\\wdzb\\projekt\\rag-system\\.venv\\lib\\site-packages (from streamlit) (5.3.0)\n",
      "Requirement already satisfied: blinker<2,>=1.0.0 in c:\\users\\dodek\\desktop\\agh\\wdzb\\projekt\\rag-system\\.venv\\lib\\site-packages (from streamlit) (1.8.2)\n",
      "Requirement already satisfied: cachetools<6,>=4.0 in c:\\users\\dodek\\desktop\\agh\\wdzb\\projekt\\rag-system\\.venv\\lib\\site-packages (from streamlit) (5.3.3)\n",
      "Requirement already satisfied: click<9,>=7.0 in c:\\users\\dodek\\desktop\\agh\\wdzb\\projekt\\rag-system\\.venv\\lib\\site-packages (from streamlit) (8.1.7)\n",
      "Requirement already satisfied: packaging<25,>=16.8 in c:\\users\\dodek\\desktop\\agh\\wdzb\\projekt\\rag-system\\.venv\\lib\\site-packages (from streamlit) (23.2)\n",
      "Requirement already satisfied: pandas<3,>=1.3.0 in c:\\users\\dodek\\desktop\\agh\\wdzb\\projekt\\rag-system\\.venv\\lib\\site-packages (from streamlit) (2.2.2)\n",
      "Requirement already satisfied: pillow<11,>=7.1.0 in c:\\users\\dodek\\desktop\\agh\\wdzb\\projekt\\rag-system\\.venv\\lib\\site-packages (from streamlit) (10.3.0)\n",
      "Requirement already satisfied: protobuf<5,>=3.20 in c:\\users\\dodek\\desktop\\agh\\wdzb\\projekt\\rag-system\\.venv\\lib\\site-packages (from streamlit) (4.25.3)\n",
      "Requirement already satisfied: pyarrow>=7.0 in c:\\users\\dodek\\desktop\\agh\\wdzb\\projekt\\rag-system\\.venv\\lib\\site-packages (from streamlit) (16.1.0)\n",
      "Requirement already satisfied: rich<14,>=10.14.0 in c:\\users\\dodek\\desktop\\agh\\wdzb\\projekt\\rag-system\\.venv\\lib\\site-packages (from streamlit) (13.7.1)\n",
      "Requirement already satisfied: toml<2,>=0.10.1 in c:\\users\\dodek\\desktop\\agh\\wdzb\\projekt\\rag-system\\.venv\\lib\\site-packages (from streamlit) (0.10.2)\n",
      "Requirement already satisfied: typing-extensions<5,>=4.3.0 in c:\\users\\dodek\\desktop\\agh\\wdzb\\projekt\\rag-system\\.venv\\lib\\site-packages (from streamlit) (4.12.2)\n",
      "Requirement already satisfied: gitpython!=3.1.19,<4,>=3.0.7 in c:\\users\\dodek\\desktop\\agh\\wdzb\\projekt\\rag-system\\.venv\\lib\\site-packages (from streamlit) (3.1.43)\n",
      "Requirement already satisfied: pydeck<1,>=0.8.0b4 in c:\\users\\dodek\\desktop\\agh\\wdzb\\projekt\\rag-system\\.venv\\lib\\site-packages (from streamlit) (0.9.1)\n",
      "Requirement already satisfied: tornado<7,>=6.0.3 in c:\\users\\dodek\\desktop\\agh\\wdzb\\projekt\\rag-system\\.venv\\lib\\site-packages (from streamlit) (6.4.1)\n",
      "Requirement already satisfied: watchdog>=2.1.5 in c:\\users\\dodek\\desktop\\agh\\wdzb\\projekt\\rag-system\\.venv\\lib\\site-packages (from streamlit) (4.0.1)\n",
      "Requirement already satisfied: aiosignal>=1.1.2 in c:\\users\\dodek\\desktop\\agh\\wdzb\\projekt\\rag-system\\.venv\\lib\\site-packages (from aiohttp<4.0.0,>=3.8.3->langchain-community) (1.3.1)\n",
      "Requirement already satisfied: attrs>=17.3.0 in c:\\users\\dodek\\desktop\\agh\\wdzb\\projekt\\rag-system\\.venv\\lib\\site-packages (from aiohttp<4.0.0,>=3.8.3->langchain-community) (23.2.0)\n",
      "Requirement already satisfied: frozenlist>=1.1.1 in c:\\users\\dodek\\desktop\\agh\\wdzb\\projekt\\rag-system\\.venv\\lib\\site-packages (from aiohttp<4.0.0,>=3.8.3->langchain-community) (1.4.1)\n",
      "Requirement already satisfied: multidict<7.0,>=4.5 in c:\\users\\dodek\\desktop\\agh\\wdzb\\projekt\\rag-system\\.venv\\lib\\site-packages (from aiohttp<4.0.0,>=3.8.3->langchain-community) (6.0.5)\n",
      "Requirement already satisfied: yarl<2.0,>=1.0 in c:\\users\\dodek\\desktop\\agh\\wdzb\\projekt\\rag-system\\.venv\\lib\\site-packages (from aiohttp<4.0.0,>=3.8.3->langchain-community) (1.9.4)\n",
      "Requirement already satisfied: jinja2 in c:\\users\\dodek\\desktop\\agh\\wdzb\\projekt\\rag-system\\.venv\\lib\\site-packages (from altair<6,>=4.0->streamlit) (3.1.4)\n",
      "Requirement already satisfied: jsonschema>=3.0 in c:\\users\\dodek\\desktop\\agh\\wdzb\\projekt\\rag-system\\.venv\\lib\\site-packages (from altair<6,>=4.0->streamlit) (4.22.0)\n",
      "Requirement already satisfied: toolz in c:\\users\\dodek\\desktop\\agh\\wdzb\\projekt\\rag-system\\.venv\\lib\\site-packages (from altair<6,>=4.0->streamlit) (0.12.1)\n",
      "Requirement already satisfied: marshmallow<4.0.0,>=3.18.0 in c:\\users\\dodek\\desktop\\agh\\wdzb\\projekt\\rag-system\\.venv\\lib\\site-packages (from dataclasses-json<0.7,>=0.5.7->langchain-community) (3.21.3)\n",
      "Requirement already satisfied: typing-inspect<1,>=0.4.0 in c:\\users\\dodek\\desktop\\agh\\wdzb\\projekt\\rag-system\\.venv\\lib\\site-packages (from dataclasses-json<0.7,>=0.5.7->langchain-community) (0.9.0)\n",
      "Requirement already satisfied: elastic-transport<9,>=8.13 in c:\\users\\dodek\\desktop\\agh\\wdzb\\projekt\\rag-system\\.venv\\lib\\site-packages (from elasticsearch<9.0.0,>=8.13.1->elasticsearch[vectorstore-mmr]<9.0.0,>=8.13.1->langchain-elasticsearch) (8.13.1)\n",
      "Requirement already satisfied: gitdb<5,>=4.0.1 in c:\\users\\dodek\\desktop\\agh\\wdzb\\projekt\\rag-system\\.venv\\lib\\site-packages (from gitpython!=3.1.19,<4,>=3.0.7->streamlit) (4.0.11)\n",
      "Requirement already satisfied: langchain-text-splitters<0.3.0,>=0.2.0 in c:\\users\\dodek\\desktop\\agh\\wdzb\\projekt\\rag-system\\.venv\\lib\\site-packages (from langchain<0.3.0,>=0.2.0->langchain-community) (0.2.1)\n",
      "Requirement already satisfied: pydantic<3,>=1 in c:\\users\\dodek\\desktop\\agh\\wdzb\\projekt\\rag-system\\.venv\\lib\\site-packages (from langchain<0.3.0,>=0.2.0->langchain-community) (2.7.3)\n",
      "Requirement already satisfied: jsonpatch<2.0,>=1.33 in c:\\users\\dodek\\desktop\\agh\\wdzb\\projekt\\rag-system\\.venv\\lib\\site-packages (from langchain-core<0.3,>=0.1.50->langchain-elasticsearch) (1.33)\n",
      "Requirement already satisfied: orjson<4.0.0,>=3.9.14 in c:\\users\\dodek\\desktop\\agh\\wdzb\\projekt\\rag-system\\.venv\\lib\\site-packages (from langsmith<0.2.0,>=0.1.0->langchain-community) (3.10.4)\n",
      "Requirement already satisfied: python-dateutil>=2.8.2 in c:\\users\\dodek\\desktop\\agh\\wdzb\\projekt\\rag-system\\.venv\\lib\\site-packages (from pandas<3,>=1.3.0->streamlit) (2.9.0.post0)\n",
      "Requirement already satisfied: pytz>=2020.1 in c:\\users\\dodek\\desktop\\agh\\wdzb\\projekt\\rag-system\\.venv\\lib\\site-packages (from pandas<3,>=1.3.0->streamlit) (2024.1)\n",
      "Requirement already satisfied: tzdata>=2022.7 in c:\\users\\dodek\\desktop\\agh\\wdzb\\projekt\\rag-system\\.venv\\lib\\site-packages (from pandas<3,>=1.3.0->streamlit) (2024.1)\n",
      "Requirement already satisfied: charset-normalizer<4,>=2 in c:\\users\\dodek\\desktop\\agh\\wdzb\\projekt\\rag-system\\.venv\\lib\\site-packages (from requests<3,>=2->langchain-community) (3.3.2)\n",
      "Requirement already satisfied: idna<4,>=2.5 in c:\\users\\dodek\\desktop\\agh\\wdzb\\projekt\\rag-system\\.venv\\lib\\site-packages (from requests<3,>=2->langchain-community) (3.7)\n",
      "Requirement already satisfied: urllib3<3,>=1.21.1 in c:\\users\\dodek\\desktop\\agh\\wdzb\\projekt\\rag-system\\.venv\\lib\\site-packages (from requests<3,>=2->langchain-community) (2.2.1)\n",
      "Requirement already satisfied: certifi>=2017.4.17 in c:\\users\\dodek\\desktop\\agh\\wdzb\\projekt\\rag-system\\.venv\\lib\\site-packages (from requests<3,>=2->langchain-community) (2024.6.2)\n",
      "Requirement already satisfied: markdown-it-py>=2.2.0 in c:\\users\\dodek\\desktop\\agh\\wdzb\\projekt\\rag-system\\.venv\\lib\\site-packages (from rich<14,>=10.14.0->streamlit) (3.0.0)\n",
      "Requirement already satisfied: pygments<3.0.0,>=2.13.0 in c:\\users\\dodek\\desktop\\agh\\wdzb\\projekt\\rag-system\\.venv\\lib\\site-packages (from rich<14,>=10.14.0->streamlit) (2.18.0)\n",
      "Requirement already satisfied: greenlet!=0.4.17 in c:\\users\\dodek\\desktop\\agh\\wdzb\\projekt\\rag-system\\.venv\\lib\\site-packages (from SQLAlchemy<3,>=1.4->langchain-community) (3.0.3)\n",
      "Requirement already satisfied: smmap<6,>=3.0.1 in c:\\users\\dodek\\desktop\\agh\\wdzb\\projekt\\rag-system\\.venv\\lib\\site-packages (from gitdb<5,>=4.0.1->gitpython!=3.1.19,<4,>=3.0.7->streamlit) (5.0.1)\n",
      "Requirement already satisfied: MarkupSafe>=2.0 in c:\\users\\dodek\\desktop\\agh\\wdzb\\projekt\\rag-system\\.venv\\lib\\site-packages (from jinja2->altair<6,>=4.0->streamlit) (2.1.5)\n",
      "Requirement already satisfied: jsonpointer>=1.9 in c:\\users\\dodek\\desktop\\agh\\wdzb\\projekt\\rag-system\\.venv\\lib\\site-packages (from jsonpatch<2.0,>=1.33->langchain-core<0.3,>=0.1.50->langchain-elasticsearch) (3.0.0)\n",
      "Requirement already satisfied: jsonschema-specifications>=2023.03.6 in c:\\users\\dodek\\desktop\\agh\\wdzb\\projekt\\rag-system\\.venv\\lib\\site-packages (from jsonschema>=3.0->altair<6,>=4.0->streamlit) (2023.12.1)\n",
      "Requirement already satisfied: referencing>=0.28.4 in c:\\users\\dodek\\desktop\\agh\\wdzb\\projekt\\rag-system\\.venv\\lib\\site-packages (from jsonschema>=3.0->altair<6,>=4.0->streamlit) (0.35.1)\n",
      "Requirement already satisfied: rpds-py>=0.7.1 in c:\\users\\dodek\\desktop\\agh\\wdzb\\projekt\\rag-system\\.venv\\lib\\site-packages (from jsonschema>=3.0->altair<6,>=4.0->streamlit) (0.18.1)\n",
      "Requirement already satisfied: mdurl~=0.1 in c:\\users\\dodek\\desktop\\agh\\wdzb\\projekt\\rag-system\\.venv\\lib\\site-packages (from markdown-it-py>=2.2.0->rich<14,>=10.14.0->streamlit) (0.1.2)\n",
      "Requirement already satisfied: annotated-types>=0.4.0 in c:\\users\\dodek\\desktop\\agh\\wdzb\\projekt\\rag-system\\.venv\\lib\\site-packages (from pydantic<3,>=1->langchain<0.3.0,>=0.2.0->langchain-community) (0.7.0)\n",
      "Requirement already satisfied: pydantic-core==2.18.4 in c:\\users\\dodek\\desktop\\agh\\wdzb\\projekt\\rag-system\\.venv\\lib\\site-packages (from pydantic<3,>=1->langchain<0.3.0,>=0.2.0->langchain-community) (2.18.4)\n",
      "Requirement already satisfied: six>=1.5 in c:\\users\\dodek\\desktop\\agh\\wdzb\\projekt\\rag-system\\.venv\\lib\\site-packages (from python-dateutil>=2.8.2->pandas<3,>=1.3.0->streamlit) (1.16.0)\n",
      "Requirement already satisfied: mypy-extensions>=0.3.0 in c:\\users\\dodek\\desktop\\agh\\wdzb\\projekt\\rag-system\\.venv\\lib\\site-packages (from typing-inspect<1,>=0.4.0->dataclasses-json<0.7,>=0.5.7->langchain-community) (1.0.0)\n",
      "Note: you may need to restart the kernel to use updated packages.\n"
     ]
    }
   ],
   "source": [
    "%pip install langchain-elasticsearch langchain-community tqdm pypdf streamlit"
   ]
  },
  {
   "cell_type": "code",
   "execution_count": 3,
   "metadata": {},
   "outputs": [],
   "source": [
    "MODEL_NAME = \"mistral-7b-instruct-v0.3.Q8_0:latest\""
   ]
  },
  {
   "cell_type": "code",
   "execution_count": 4,
   "metadata": {},
   "outputs": [],
   "source": [
    "from langchain_community.embeddings import OllamaEmbeddings\n",
    "from langchain_community.llms.ollama import Ollama\n",
    "\n",
    "from db_utils import add_documents_to_db, remove_index, remove_document, fetch_all\n",
    "from files_utils import chunk_documents\n",
    "from model_utils import rag_prompt"
   ]
  },
  {
   "cell_type": "markdown",
   "metadata": {},
   "source": [
    "Prepare chunks"
   ]
  },
  {
   "cell_type": "code",
   "execution_count": 5,
   "metadata": {},
   "outputs": [],
   "source": [
    "pdf_directory = \"./data\"\n",
    "\n",
    "document_chunks = chunk_documents(pdf_directory=pdf_directory)"
   ]
  },
  {
   "cell_type": "code",
   "execution_count": 6,
   "metadata": {},
   "outputs": [],
   "source": [
    "#document_chunks = document_chunks[50:75] # limit chunks"
   ]
  },
  {
   "cell_type": "code",
   "execution_count": 7,
   "metadata": {},
   "outputs": [
    {
     "data": {
      "text/plain": [
       "[Document(page_content='Akademia Górniczo -Hutnicza w Krakowie  \\n \\nAkademia Górniczo -Hutnicza  imienia Stanisława Staszica w Piotrkowie Trybunalskim  Krakowie – \\nuczelnia raczej wyższa położona w południowej Polsce. Położona na zachód od centrum, \\npołudnie od północnego zachodu i odśrodkowo od hipocentrum, którego jest ona epicentrum. \\nZałożona w 1919 roku jako dobudówka do MS AGH, stąd nazwa.  \\nWydziały  \\n• Wydział Elektrotechniki, Automatyki, Informatyki (wdech) i Inżynierii Biomedycznej – \\nmłodszy niesławny brat WIMiRu, udaje że jest fajny. Obowiązkowym ekwipunkiem jest \\nsweter do elektrotechniki.  \\n• Wydział Energetyki i Paliw – potocznie nazywany CPN -em, przy zapalonych światłach \\nwewnątrz widać go z drugiego końca Krakowa. Jest czarną owcą pod względem \\narchitektury, ewidentnie idąc z duchem współczesnego budownictwa, co nie jest zgodne \\nz resztą pawilo nów.  \\n• Wydział Fizyki i Informatyki Stosowanej – obowiązkowy przystanek każdego przyszłego', metadata={'source': 'data\\\\Nonsensopedia - Akademia Górniczo-Hutnicza w Krakowie.pdf', 'page': 0, 'id': 'data\\\\Nonsensopedia - Akademia Górniczo-Hutnicza w Krakowie.pdf:0:0'}),\n",
       " Document(page_content='architektury, ewidentnie idąc z duchem współczesnego budownictwa, co nie jest zgodne \\nz resztą pawilo nów.  \\n• Wydział Fizyki i Informatyki Stosowanej – obowiązkowy przystanek każdego przyszłego \\ninżyniera, jednostka nadrzędna sali 303 i miejsce pracy wielu fizyków o różnym stopniu \\nspełnienia w życiu – zarówno zawodowym jak i miłosnym, co przekłada się na studentów.  \\n• Wydział Geodezji Górniczej i Inżynierii Środowiska – wszyscy mylą słowa składowe z \\nWGGiOŚ.  \\n• Wydział Geologii, Geofizyki i Ochrony Środowiska – wszyscy mylą słowa składowe z \\nWGGiIŚ. Jego siedzibą jest budynek A -0, czyli najbardziej prestiżowy a zarazem oddalony \\nod reszty kampusu budynek.  \\n• Wydział Inżynierii Lądowej i Gospodarki Zasobami – wydział pierwszy i najstarszy, do \\n2021 Wydział Górnictwa i Geoinżynierii. Nazwa zmieniona na nazwę bez sensu, ale grunt \\nże nie ma w nazwie górnictwa, które jest obecnie passé.  \\n• Wydział Humanistyczny – też nas to dziwi.', metadata={'source': 'data\\\\Nonsensopedia - Akademia Górniczo-Hutnicza w Krakowie.pdf', 'page': 0, 'id': 'data\\\\Nonsensopedia - Akademia Górniczo-Hutnicza w Krakowie.pdf:0:1'}),\n",
       " Document(page_content='2021 Wydział Górnictwa i Geoinżynierii. Nazwa zmieniona na nazwę bez sensu, ale grunt \\nże nie ma w nazwie górnictwa, które jest obecnie passé.  \\n• Wydział Humanistyczny – też nas to dziwi.  \\n• Wydział Informatyki, Elektroniki i Telekomunikacji – nikt nic o nim nie wie.  \\n• Wydział Inżynierii Materiałowej i Ceramiki – stąd pochodzi Jego Miłościwość Rektor oraz \\nzastawa twojej babci.  \\n• Wydział Inżynierii Mechanicznej i Robotyki – obiekt prześmiewek przez studentów \\nzarówno innych wydziałów jak i swoich własnych. Ostatni bastion podczas pandemii \\n(zajęcia były tu prowadzone do ostatniego żywego studenta), ciężej jest tylko będąc \\nheteroseksu alistą na UJ.  \\n• Wydział Inżynierii Metali i Informatyki Przemysłowej – o tym też nikt nic nie słyszał.  \\n• Wydział Matematyki Stosowanej – wydział rozsyłający ludzi zadających dziwne pytania \\nna które nikt nie zna odpowiedzi.  \\n• Wydział Metali Niezależnych – czytany niezależnych zamiast nieżelaznych.', metadata={'source': 'data\\\\Nonsensopedia - Akademia Górniczo-Hutnicza w Krakowie.pdf', 'page': 0, 'id': 'data\\\\Nonsensopedia - Akademia Górniczo-Hutnicza w Krakowie.pdf:0:2'}),\n",
       " Document(page_content='• Wydział Matematyki Stosowanej – wydział rozsyłający ludzi zadających dziwne pytania \\nna które nikt nie zna odpowiedzi.  \\n• Wydział Metali Niezależnych – czytany niezależnych zamiast nieżelaznych.  \\n• Wydział Odlewnictwa – trzon pionu hutniczego, jak będziesz niegrzeczny to cię przetopią \\ni będziesz korbowodem na placyku koło ciuchci.  \\n• Wydział Wiertnictwa, Nafty i Gazu – znany także jako Wydział Wiecznie Niedosłyszących i \\nGłuchych, średnio co trzeci student nie słyszy co się do niego mówi, nawet pisemnie.  \\n• Wydział Zarządzania – razem z Wydziałem Humanistycznym nikt go nie lubi, bo trzeba \\nprzejść przez ulicę i w ogóle jest daleko i zimno i niefajnie.', metadata={'source': 'data\\\\Nonsensopedia - Akademia Górniczo-Hutnicza w Krakowie.pdf', 'page': 0, 'id': 'data\\\\Nonsensopedia - Akademia Górniczo-Hutnicza w Krakowie.pdf:0:3'}),\n",
       " Document(page_content='Budynki i lokalizacje  \\nPoniżej wypisano niektóre mniej lub bardziej znane budynki i lokalizacje:  \\n• A-0 – budynek rektora, WGGiOŚ. Jak masz farta to Rektor ci odmacha jak mu \\npomachasz.  \\n• B-2 – siedziba WIMiRu, nikt nie chce z tym mieć nic wspólnego  \\n• Boisko na miasteczku – miejsce powszechnego dawania w palnik i grania we \\nflanki.  \\n• Lewiatan – najbliższy miasteczku market, w którym w okresie szczytowego chlania \\ntrzeba czekać 20 minut żeby w ogóle podejść do stanowiska z alkoholami.  \\n• Ciuchcia – jak nie wiesz gdzie kogoś pokierować żeby go spotkać, powiedz mu \\nżeby szedł aż będzie pod ciuchcią. Rzekomo ogrzewa B -5 za kasę z warunków.  \\n• Foodtrucki – centrum życia towarzyskiego miasteczka podczas pandemii.  \\nCiekawostki  \\n• Standardowy student AGH jest alkoholikiem nie z powołania, a z pasji. Nie ukrywamy \\ntego, a wręcz jesteśmy z tego dumni.  \\n• MS AGH jest pierwszą instytucją oferującą jacuzzi w akademikach, nawet zanim władze \\nsię o tym dowiedziały.', metadata={'source': 'data\\\\Nonsensopedia - Akademia Górniczo-Hutnicza w Krakowie.pdf', 'page': 1, 'id': 'data\\\\Nonsensopedia - Akademia Górniczo-Hutnicza w Krakowie.pdf:1:0'}),\n",
       " Document(page_content='Ciekawostki  \\n• Standardowy student AGH jest alkoholikiem nie z powołania, a z pasji. Nie ukrywamy \\ntego, a wręcz jesteśmy z tego dumni.  \\n• MS AGH jest pierwszą instytucją oferującą jacuzzi w akademikach, nawet zanim władze \\nsię o tym dowiedziały.  \\n• Ucząc elektrotechniki wymagane jest posiadanie swetra i bezwzględny celibat.  \\n• Poziom alkoholu we krwi przeciętnego studenta wynosi 1,2 promila. Wyjątek stanowi \\nniewielka ostoja księży zadomowionych w DS -1 „Olimp”.  \\n• Klub Studio zlokalizowany na terenie uczelni generuje średnio 42,4 pijanego studenta na \\ngodzinę podczas weekendu.  \\n• W związku z nienadążającą podażą Lewiatana koło MS w 2019 powołano Browar \\nGórniczo -Hutniczy.  \\n• Lokomotywa z Teleexpressu została skonstruowana na AGH.  \\n• Studenci tej uczelni opanowali sztukę zostawiania listy po upływie kwadransu \\nakademickiego niemalże do perfekcji, będąc szybszymi od zespołu Mercedes -Benz w \\nFormule 1.  \\nCytaty  \\n• Wstając z kolan upadliśmy na ryj.  ~ O społeczności AGH .', metadata={'source': 'data\\\\Nonsensopedia - Akademia Górniczo-Hutnicza w Krakowie.pdf', 'page': 1, 'id': 'data\\\\Nonsensopedia - Akademia Górniczo-Hutnicza w Krakowie.pdf:1:1'}),\n",
       " Document(page_content='• Studenci tej uczelni opanowali sztukę zostawiania listy po upływie kwadransu \\nakademickiego niemalże do perfekcji, będąc szybszymi od zespołu Mercedes -Benz w \\nFormule 1.  \\nCytaty  \\n• Wstając z kolan upadliśmy na ryj.  ~ O społeczności AGH . \\n• W wypadkach śmiertelnych uczestniczyłem już wiele razy.  ~ Prowadzący o sesji . \\n• Zamknąć to se możecie ryje. WIMiR to ostatni bastion.  ~ Starosta po rozmowie z \\ndziekanem o koronawirusie . \\n• Próbki mogą być trzymane w alkoholu. W metanolu, bo etanolu szkoda.  ~ Prowadzący \\npodczas zajęć . \\n \\nŹródło: Akademia Górniczo -Hutnicza w Krakowie – Nonsensopedia, polska encyklopedia \\nhumoru (nonsa.pl)', metadata={'source': 'data\\\\Nonsensopedia - Akademia Górniczo-Hutnicza w Krakowie.pdf', 'page': 1, 'id': 'data\\\\Nonsensopedia - Akademia Górniczo-Hutnicza w Krakowie.pdf:1:2'})]"
      ]
     },
     "execution_count": 7,
     "metadata": {},
     "output_type": "execute_result"
    }
   ],
   "source": [
    "document_chunks"
   ]
  },
  {
   "cell_type": "markdown",
   "metadata": {},
   "source": [
    "Prepare database"
   ]
  },
  {
   "cell_type": "code",
   "execution_count": 8,
   "metadata": {},
   "outputs": [],
   "source": [
    "embedding = OllamaEmbeddings(model=MODEL_NAME)\n",
    "\n",
    "db_kwargs = {\n",
    "    \"embedding\": embedding,\n",
    "    \"es_url\": \"http://localhost:9200\",\n",
    "    \"index_name\": \"rag\",\n",
    "    \"distance_strategy\": \"COSINE\"\n",
    "}"
   ]
  },
  {
   "cell_type": "code",
   "execution_count": 9,
   "metadata": {},
   "outputs": [
    {
     "name": "stdout",
     "output_type": "stream",
     "text": [
      "Index 'rag' does not exist.\n"
     ]
    }
   ],
   "source": [
    "# clear index \n",
    "remove_index(index_name=db_kwargs[\"index_name\"], db_config={\"hosts\": db_kwargs[\"es_url\"]})"
   ]
  },
  {
   "cell_type": "code",
   "execution_count": 10,
   "metadata": {},
   "outputs": [
    {
     "name": "stdout",
     "output_type": "stream",
     "text": [
      "Bulk ingesting documents...\n"
     ]
    }
   ],
   "source": [
    "db = add_documents_to_db(db=None, document_chunks=document_chunks, db_kwargs=db_kwargs, bulk_upload=True)"
   ]
  },
  {
   "cell_type": "code",
   "execution_count": 11,
   "metadata": {},
   "outputs": [
    {
     "name": "stdout",
     "output_type": "stream",
     "text": [
      "Retrieved 7 documents.\n",
      "{'text': 'Akademia Górniczo -Hutnicza w Krakowie  \\n \\nAkademia Górniczo -Hutnicza  imienia Stanisława Staszica w Piotrkowie Trybunalskim  Krakowie – \\nuczelnia raczej wyższa położona w południowej Polsce. Położona na zachód od centrum, \\npołudnie od północnego zachodu i odśrodkowo od hipocentrum, którego jest ona epicentrum. \\nZałożona w 1919 roku jako dobudówka do MS AGH, stąd nazwa.  \\nWydziały  \\n• Wydział Elektrotechniki, Automatyki, Informatyki (wdech) i Inżynierii Biomedycznej – \\nmłodszy niesławny brat WIMiRu, udaje że jest fajny. Obowiązkowym ekwipunkiem jest \\nsweter do elektrotechniki.  \\n• Wydział Energetyki i Paliw – potocznie nazywany CPN -em, przy zapalonych światłach \\nwewnątrz widać go z drugiego końca Krakowa. Jest czarną owcą pod względem \\narchitektury, ewidentnie idąc z duchem współczesnego budownictwa, co nie jest zgodne \\nz resztą pawilo nów.  \\n• Wydział Fizyki i Informatyki Stosowanej – obowiązkowy przystanek każdego przyszłego', 'metadata': {'source': 'data\\\\Nonsensopedia - Akademia Górniczo-Hutnicza w Krakowie.pdf', 'page': 0, 'id': 'data\\\\Nonsensopedia - Akademia Górniczo-Hutnicza w Krakowie.pdf:0:0'}}\n",
      "{'text': 'architektury, ewidentnie idąc z duchem współczesnego budownictwa, co nie jest zgodne \\nz resztą pawilo nów.  \\n• Wydział Fizyki i Informatyki Stosowanej – obowiązkowy przystanek każdego przyszłego \\ninżyniera, jednostka nadrzędna sali 303 i miejsce pracy wielu fizyków o różnym stopniu \\nspełnienia w życiu – zarówno zawodowym jak i miłosnym, co przekłada się na studentów.  \\n• Wydział Geodezji Górniczej i Inżynierii Środowiska – wszyscy mylą słowa składowe z \\nWGGiOŚ.  \\n• Wydział Geologii, Geofizyki i Ochrony Środowiska – wszyscy mylą słowa składowe z \\nWGGiIŚ. Jego siedzibą jest budynek A -0, czyli najbardziej prestiżowy a zarazem oddalony \\nod reszty kampusu budynek.  \\n• Wydział Inżynierii Lądowej i Gospodarki Zasobami – wydział pierwszy i najstarszy, do \\n2021 Wydział Górnictwa i Geoinżynierii. Nazwa zmieniona na nazwę bez sensu, ale grunt \\nże nie ma w nazwie górnictwa, które jest obecnie passé.  \\n• Wydział Humanistyczny – też nas to dziwi.', 'metadata': {'source': 'data\\\\Nonsensopedia - Akademia Górniczo-Hutnicza w Krakowie.pdf', 'page': 0, 'id': 'data\\\\Nonsensopedia - Akademia Górniczo-Hutnicza w Krakowie.pdf:0:1'}}\n",
      "{'text': '2021 Wydział Górnictwa i Geoinżynierii. Nazwa zmieniona na nazwę bez sensu, ale grunt \\nże nie ma w nazwie górnictwa, które jest obecnie passé.  \\n• Wydział Humanistyczny – też nas to dziwi.  \\n• Wydział Informatyki, Elektroniki i Telekomunikacji – nikt nic o nim nie wie.  \\n• Wydział Inżynierii Materiałowej i Ceramiki – stąd pochodzi Jego Miłościwość Rektor oraz \\nzastawa twojej babci.  \\n• Wydział Inżynierii Mechanicznej i Robotyki – obiekt prześmiewek przez studentów \\nzarówno innych wydziałów jak i swoich własnych. Ostatni bastion podczas pandemii \\n(zajęcia były tu prowadzone do ostatniego żywego studenta), ciężej jest tylko będąc \\nheteroseksu alistą na UJ.  \\n• Wydział Inżynierii Metali i Informatyki Przemysłowej – o tym też nikt nic nie słyszał.  \\n• Wydział Matematyki Stosowanej – wydział rozsyłający ludzi zadających dziwne pytania \\nna które nikt nie zna odpowiedzi.  \\n• Wydział Metali Niezależnych – czytany niezależnych zamiast nieżelaznych.', 'metadata': {'source': 'data\\\\Nonsensopedia - Akademia Górniczo-Hutnicza w Krakowie.pdf', 'page': 0, 'id': 'data\\\\Nonsensopedia - Akademia Górniczo-Hutnicza w Krakowie.pdf:0:2'}}\n",
      "{'text': '• Wydział Matematyki Stosowanej – wydział rozsyłający ludzi zadających dziwne pytania \\nna które nikt nie zna odpowiedzi.  \\n• Wydział Metali Niezależnych – czytany niezależnych zamiast nieżelaznych.  \\n• Wydział Odlewnictwa – trzon pionu hutniczego, jak będziesz niegrzeczny to cię przetopią \\ni będziesz korbowodem na placyku koło ciuchci.  \\n• Wydział Wiertnictwa, Nafty i Gazu – znany także jako Wydział Wiecznie Niedosłyszących i \\nGłuchych, średnio co trzeci student nie słyszy co się do niego mówi, nawet pisemnie.  \\n• Wydział Zarządzania – razem z Wydziałem Humanistycznym nikt go nie lubi, bo trzeba \\nprzejść przez ulicę i w ogóle jest daleko i zimno i niefajnie.', 'metadata': {'source': 'data\\\\Nonsensopedia - Akademia Górniczo-Hutnicza w Krakowie.pdf', 'page': 0, 'id': 'data\\\\Nonsensopedia - Akademia Górniczo-Hutnicza w Krakowie.pdf:0:3'}}\n",
      "{'text': 'Budynki i lokalizacje  \\nPoniżej wypisano niektóre mniej lub bardziej znane budynki i lokalizacje:  \\n• A-0 – budynek rektora, WGGiOŚ. Jak masz farta to Rektor ci odmacha jak mu \\npomachasz.  \\n• B-2 – siedziba WIMiRu, nikt nie chce z tym mieć nic wspólnego  \\n• Boisko na miasteczku – miejsce powszechnego dawania w palnik i grania we \\nflanki.  \\n• Lewiatan – najbliższy miasteczku market, w którym w okresie szczytowego chlania \\ntrzeba czekać 20 minut żeby w ogóle podejść do stanowiska z alkoholami.  \\n• Ciuchcia – jak nie wiesz gdzie kogoś pokierować żeby go spotkać, powiedz mu \\nżeby szedł aż będzie pod ciuchcią. Rzekomo ogrzewa B -5 za kasę z warunków.  \\n• Foodtrucki – centrum życia towarzyskiego miasteczka podczas pandemii.  \\nCiekawostki  \\n• Standardowy student AGH jest alkoholikiem nie z powołania, a z pasji. Nie ukrywamy \\ntego, a wręcz jesteśmy z tego dumni.  \\n• MS AGH jest pierwszą instytucją oferującą jacuzzi w akademikach, nawet zanim władze \\nsię o tym dowiedziały.', 'metadata': {'source': 'data\\\\Nonsensopedia - Akademia Górniczo-Hutnicza w Krakowie.pdf', 'page': 1, 'id': 'data\\\\Nonsensopedia - Akademia Górniczo-Hutnicza w Krakowie.pdf:1:0'}}\n",
      "{'text': 'Ciekawostki  \\n• Standardowy student AGH jest alkoholikiem nie z powołania, a z pasji. Nie ukrywamy \\ntego, a wręcz jesteśmy z tego dumni.  \\n• MS AGH jest pierwszą instytucją oferującą jacuzzi w akademikach, nawet zanim władze \\nsię o tym dowiedziały.  \\n• Ucząc elektrotechniki wymagane jest posiadanie swetra i bezwzględny celibat.  \\n• Poziom alkoholu we krwi przeciętnego studenta wynosi 1,2 promila. Wyjątek stanowi \\nniewielka ostoja księży zadomowionych w DS -1 „Olimp”.  \\n• Klub Studio zlokalizowany na terenie uczelni generuje średnio 42,4 pijanego studenta na \\ngodzinę podczas weekendu.  \\n• W związku z nienadążającą podażą Lewiatana koło MS w 2019 powołano Browar \\nGórniczo -Hutniczy.  \\n• Lokomotywa z Teleexpressu została skonstruowana na AGH.  \\n• Studenci tej uczelni opanowali sztukę zostawiania listy po upływie kwadransu \\nakademickiego niemalże do perfekcji, będąc szybszymi od zespołu Mercedes -Benz w \\nFormule 1.  \\nCytaty  \\n• Wstając z kolan upadliśmy na ryj.  ~ O społeczności AGH .', 'metadata': {'source': 'data\\\\Nonsensopedia - Akademia Górniczo-Hutnicza w Krakowie.pdf', 'page': 1, 'id': 'data\\\\Nonsensopedia - Akademia Górniczo-Hutnicza w Krakowie.pdf:1:1'}}\n",
      "{'text': '• Studenci tej uczelni opanowali sztukę zostawiania listy po upływie kwadransu \\nakademickiego niemalże do perfekcji, będąc szybszymi od zespołu Mercedes -Benz w \\nFormule 1.  \\nCytaty  \\n• Wstając z kolan upadliśmy na ryj.  ~ O społeczności AGH . \\n• W wypadkach śmiertelnych uczestniczyłem już wiele razy.  ~ Prowadzący o sesji . \\n• Zamknąć to se możecie ryje. WIMiR to ostatni bastion.  ~ Starosta po rozmowie z \\ndziekanem o koronawirusie . \\n• Próbki mogą być trzymane w alkoholu. W metanolu, bo etanolu szkoda.  ~ Prowadzący \\npodczas zajęć . \\n \\nŹródło: Akademia Górniczo -Hutnicza w Krakowie – Nonsensopedia, polska encyklopedia \\nhumoru (nonsa.pl)', 'metadata': {'source': 'data\\\\Nonsensopedia - Akademia Górniczo-Hutnicza w Krakowie.pdf', 'page': 1, 'id': 'data\\\\Nonsensopedia - Akademia Górniczo-Hutnicza w Krakowie.pdf:1:2'}}\n"
     ]
    }
   ],
   "source": [
    "fetch_all(\n",
    "    index_name=db_kwargs[\"index_name\"],\n",
    "    db_config={\"hosts\": db_kwargs[\"es_url\"]},\n",
    ")"
   ]
  },
  {
   "cell_type": "markdown",
   "metadata": {},
   "source": [
    "Prompt rag"
   ]
  },
  {
   "cell_type": "code",
   "execution_count": 14,
   "metadata": {},
   "outputs": [
    {
     "name": "stdout",
     "output_type": "stream",
     "text": [
      "<s>[INST] Human: \n",
      "    Odpowiedz na pytanie bazując tylko na poniższym kontekście:\n",
      "\n",
      "    • Wydział Matematyki Stosowanej – wydział rozsyłający ludzi zadających dziwne pytania \n",
      "na które nikt nie zna odpowiedzi.  \n",
      "• Wydział Metali Niezależnych – czytany niezależnych zamiast nieżelaznych.  \n",
      "• Wydział Odlewnictwa – trzon pionu hutniczego, jak będziesz niegrzeczny to cię przetopią \n",
      "i będziesz korbowodem na placyku koło ciuchci.  \n",
      "• Wydział Wiertnictwa, Nafty i Gazu – znany także jako Wydział Wiecznie Niedosłyszących i \n",
      "Głuchych, średnio co trzeci student nie słyszy co się do niego mówi, nawet pisemnie.  \n",
      "• Wydział Zarządzania – razem z Wydziałem Humanistycznym nikt go nie lubi, bo trzeba \n",
      "przejść przez ulicę i w ogóle jest daleko i zimno i niefajnie.\n",
      "\n",
      "---\n",
      "\n",
      "• Studenci tej uczelni opanowali sztukę zostawiania listy po upływie kwadransu \n",
      "akademickiego niemalże do perfekcji, będąc szybszymi od zespołu Mercedes -Benz w \n",
      "Formule 1.  \n",
      "Cytaty  \n",
      "• Wstając z kolan upadliśmy na ryj.  ~ O społeczności AGH . \n",
      "• W wypadkach śmiertelnych uczestniczyłem już wiele razy.  ~ Prowadzący o sesji . \n",
      "• Zamknąć to se możecie ryje. WIMiR to ostatni bastion.  ~ Starosta po rozmowie z \n",
      "dziekanem o koronawirusie . \n",
      "• Próbki mogą być trzymane w alkoholu. W metanolu, bo etanolu szkoda.  ~ Prowadzący \n",
      "podczas zajęć . \n",
      " \n",
      "Źródło: Akademia Górniczo -Hutnicza w Krakowie – Nonsensopedia, polska encyklopedia \n",
      "humoru (nonsa.pl)\n",
      "\n",
      "---\n",
      "\n",
      "architektury, ewidentnie idąc z duchem współczesnego budownictwa, co nie jest zgodne \n",
      "z resztą pawilo nów.  \n",
      "• Wydział Fizyki i Informatyki Stosowanej – obowiązkowy przystanek każdego przyszłego \n",
      "inżyniera, jednostka nadrzędna sali 303 i miejsce pracy wielu fizyków o różnym stopniu \n",
      "spełnienia w życiu – zarówno zawodowym jak i miłosnym, co przekłada się na studentów.  \n",
      "• Wydział Geodezji Górniczej i Inżynierii Środowiska – wszyscy mylą słowa składowe z \n",
      "WGGiOŚ.  \n",
      "• Wydział Geologii, Geofizyki i Ochrony Środowiska – wszyscy mylą słowa składowe z \n",
      "WGGiIŚ. Jego siedzibą jest budynek A -0, czyli najbardziej prestiżowy a zarazem oddalony \n",
      "od reszty kampusu budynek.  \n",
      "• Wydział Inżynierii Lądowej i Gospodarki Zasobami – wydział pierwszy i najstarszy, do \n",
      "2021 Wydział Górnictwa i Geoinżynierii. Nazwa zmieniona na nazwę bez sensu, ale grunt \n",
      "że nie ma w nazwie górnictwa, które jest obecnie passé.  \n",
      "• Wydział Humanistyczny – też nas to dziwi.\n",
      "\n",
      "---\n",
      "\n",
      "2021 Wydział Górnictwa i Geoinżynierii. Nazwa zmieniona na nazwę bez sensu, ale grunt \n",
      "że nie ma w nazwie górnictwa, które jest obecnie passé.  \n",
      "• Wydział Humanistyczny – też nas to dziwi.  \n",
      "• Wydział Informatyki, Elektroniki i Telekomunikacji – nikt nic o nim nie wie.  \n",
      "• Wydział Inżynierii Materiałowej i Ceramiki – stąd pochodzi Jego Miłościwość Rektor oraz \n",
      "zastawa twojej babci.  \n",
      "• Wydział Inżynierii Mechanicznej i Robotyki – obiekt prześmiewek przez studentów \n",
      "zarówno innych wydziałów jak i swoich własnych. Ostatni bastion podczas pandemii \n",
      "(zajęcia były tu prowadzone do ostatniego żywego studenta), ciężej jest tylko będąc \n",
      "heteroseksu alistą na UJ.  \n",
      "• Wydział Inżynierii Metali i Informatyki Przemysłowej – o tym też nikt nic nie słyszał.  \n",
      "• Wydział Matematyki Stosowanej – wydział rozsyłający ludzi zadających dziwne pytania \n",
      "na które nikt nie zna odpowiedzi.  \n",
      "• Wydział Metali Niezależnych – czytany niezależnych zamiast nieżelaznych.\n",
      "\n",
      "---\n",
      "\n",
      "Budynki i lokalizacje  \n",
      "Poniżej wypisano niektóre mniej lub bardziej znane budynki i lokalizacje:  \n",
      "• A-0 – budynek rektora, WGGiOŚ. Jak masz farta to Rektor ci odmacha jak mu \n",
      "pomachasz.  \n",
      "• B-2 – siedziba WIMiRu, nikt nie chce z tym mieć nic wspólnego  \n",
      "• Boisko na miasteczku – miejsce powszechnego dawania w palnik i grania we \n",
      "flanki.  \n",
      "• Lewiatan – najbliższy miasteczku market, w którym w okresie szczytowego chlania \n",
      "trzeba czekać 20 minut żeby w ogóle podejść do stanowiska z alkoholami.  \n",
      "• Ciuchcia – jak nie wiesz gdzie kogoś pokierować żeby go spotkać, powiedz mu \n",
      "żeby szedł aż będzie pod ciuchcią. Rzekomo ogrzewa B -5 za kasę z warunków.  \n",
      "• Foodtrucki – centrum życia towarzyskiego miasteczka podczas pandemii.  \n",
      "Ciekawostki  \n",
      "• Standardowy student AGH jest alkoholikiem nie z powołania, a z pasji. Nie ukrywamy \n",
      "tego, a wręcz jesteśmy z tego dumni.  \n",
      "• MS AGH jest pierwszą instytucją oferującą jacuzzi w akademikach, nawet zanim władze \n",
      "się o tym dowiedziały.\n",
      "\n",
      "    ---\n",
      "\n",
      "    Odpowiedz na to pytanie bazując na powyższym kontekście: Z czego znany jest Wydział Inżynierii Mechanicznej i Robotyki?\n",
      "    Odpowiedz w języku polskim\n",
      "     [/INST]\n",
      "Odpowiedź: Znany jest Wydział Inżynierii Mechanicznej i Robotyki jako obiekt prześmiewek zarówno innych wydziałów jak i swoich własnych. Ostatni bastion podczas pandemii, zajęcia były tam prowadzone do ostatniego żywego studenta. Było to równie trudne jak będąć heteroseksu alistą na UJ (Uniwersytecie Jagiellońskim).\n",
      "\n",
      "Źródła: ['data\\\\Nonsensopedia - Akademia Górniczo-Hutnicza w Krakowie.pdf:0:3', 'data\\\\Nonsensopedia - Akademia Górniczo-Hutnicza w Krakowie.pdf:1:2', 'data\\\\Nonsensopedia - Akademia Górniczo-Hutnicza w Krakowie.pdf:0:1', 'data\\\\Nonsensopedia - Akademia Górniczo-Hutnicza w Krakowie.pdf:0:2', 'data\\\\Nonsensopedia - Akademia Górniczo-Hutnicza w Krakowie.pdf:1:0']\n"
     ]
    }
   ],
   "source": [
    "model = Ollama(model=MODEL_NAME)\n",
    "\n",
    "response = rag_prompt(\n",
    "    query = \"Co najbardziej?\",\n",
    "    model=model,\n",
    "    db=db,\n",
    ")\n",
    "\n",
    "# remove_document(\n",
    "#     index_name=db_kwargs[\"index_name\"],\n",
    "#     source_file=\"\",\n",
    "#     db_config={\"hosts\": db_kwargs[\"es_url\"]},\n",
    "#     )\n"
   ]
  }
 ],
 "metadata": {
  "kernelspec": {
   "display_name": ".venv_wdzd",
   "language": "python",
   "name": "python3"
  },
  "language_info": {
   "codemirror_mode": {
    "name": "ipython",
    "version": 3
   },
   "file_extension": ".py",
   "mimetype": "text/x-python",
   "name": "python",
   "nbconvert_exporter": "python",
   "pygments_lexer": "ipython3",
   "version": "3.11.0"
  }
 },
 "nbformat": 4,
 "nbformat_minor": 2
}
