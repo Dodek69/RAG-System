{
 "cells": [
  {
   "cell_type": "code",
   "execution_count": 1,
   "metadata": {},
   "outputs": [],
   "source": [
    "# import importlib\n",
    "# import db_utils\n",
    "# importlib.reload(db_utils)\n"
   ]
  },
  {
   "cell_type": "code",
   "execution_count": 2,
   "metadata": {},
   "outputs": [],
   "source": [
    "from langchain_community.embeddings import OllamaEmbeddings\n",
    "from langchain_community.llms.ollama import Ollama\n",
    "\n",
    "from db_utils import add_documents_to_db, remove_index, remove_document, fetch_all\n",
    "from files_utils import chunk_documents\n",
    "from model_utils import rag_prompt"
   ]
  },
  {
   "cell_type": "markdown",
   "metadata": {},
   "source": [
    "Prepare chunks"
   ]
  },
  {
   "cell_type": "code",
   "execution_count": 7,
   "metadata": {},
   "outputs": [],
   "source": [
    "pdf_directory = \"./data\"\n",
    "\n",
    "document_chunks = chunk_documents(pdf_directory=pdf_directory)"
   ]
  },
  {
   "cell_type": "code",
   "execution_count": 8,
   "metadata": {},
   "outputs": [],
   "source": [
    "document_chunks = document_chunks[50:75] # limit chunks"
   ]
  },
  {
   "cell_type": "code",
   "execution_count": 9,
   "metadata": {},
   "outputs": [
    {
     "data": {
      "text/plain": [
       "[Document(page_content='nagiego stosunku pieniężnego.\\nBurżuazja ujawniła,  że brutalne stosowanie  siły, które reakcja tak podziwia w średniowieczu, \\nznajdowało  godn e uzupełnienie w najbardzie j gnuśnym  próżniactwie . Dopiero burżuazja  pokazała, co może', metadata={'source': 'data/4.-kapitalizm_marks_engels_manifest-komunistyczny.pdf', 'page': 4, 'id': 'data/4.-kapitalizm_marks_engels_manifest-komunistyczny.pdf:4:2'}),\n",
       " Document(page_content='sprawić  ludzka działal ność. Dokonał a ona całkiem innych cudów niż zbudowanie egipskich piramid, \\nrzymskich wodociągów i gotyckich katedr,  odbyła pochody zgoła inne niż wędrówki ludów i wyprawy \\nkrzyżowe.', metadata={'source': 'data/4.-kapitalizm_marks_engels_manifest-komunistyczny.pdf', 'page': 4, 'id': 'data/4.-kapitalizm_marks_engels_manifest-komunistyczny.pdf:4:3'}),\n",
       " Document(page_content='Burżuazja nie może istnieć bez nieustannego  rewolucjonizowani a narzędzi produkcji, a więc \\nstosunków produkcji, a więc całokształtu stosunków społecznych. Natomiast  pierwszym warunki em', metadata={'source': 'data/4.-kapitalizm_marks_engels_manifest-komunistyczny.pdf', 'page': 4, 'id': 'data/4.-kapitalizm_marks_engels_manifest-komunistyczny.pdf:4:4'}),\n",
       " Document(page_content='istnien ia wszy stkich dawniejszych klas przemysłowych było zachowa nie bez zmian stareg o sposobu \\nprodukcji. Ustawiczn e przewroty w produkcji, bezustanne wstrząsy  ogarni ające  całość życia społecznego,', metadata={'source': 'data/4.-kapitalizm_marks_engels_manifest-komunistyczny.pdf', 'page': 4, 'id': 'data/4.-kapitalizm_marks_engels_manifest-komunistyczny.pdf:4:5'}),\n",
       " Document(page_content='wieczna niepewność i wieczny ruch odróżniają  epokę burżuazyjną  od wszystk ich poprzednich6. Wszy stkie \\nstężałe, zaśnied ziałe stosunki wraz  z nieodłącznymi od nich, z dawi en dawna uświęconymi pojęciami i', metadata={'source': 'data/4.-kapitalizm_marks_engels_manifest-komunistyczny.pdf', 'page': 4, 'id': 'data/4.-kapitalizm_marks_engels_manifest-komunistyczny.pdf:4:6'}),\n",
       " Document(page_content='pogląda mi ulegają rozkładow i, wszystkie  nowo powstałe  stają się przestarzałe,  zanim zdążą  skostnieć. \\nWszystko, co stanowe i zakrz epłe, znika, wszy stko, co święte, ulega sprofanow aniu i ludzie muszą wreszcie', metadata={'source': 'data/4.-kapitalizm_marks_engels_manifest-komunistyczny.pdf', 'page': 4, 'id': 'data/4.-kapitalizm_marks_engels_manifest-komunistyczny.pdf:4:7'}),\n",
       " Document(page_content='spojrzeć trzeźwym okiem na swoją pozycję życiową, na swoje wzajemne stosunki.\\nPotrzeba coraz szerszego zbytu dla jej produktów gna burżuazję po całej kuli ziemskiej. Wszędzie \\nmusi się ona zagnieździć, wszędzie zadom owić, wszędzie zadzie rzgnąć stosunki.', metadata={'source': 'data/4.-kapitalizm_marks_engels_manifest-komunistyczny.pdf', 'page': 4, 'id': 'data/4.-kapitalizm_marks_engels_manifest-komunistyczny.pdf:4:8'}),\n",
       " Document(page_content='Przez eksploatację7 rynku  światowego burżuazja  nadała produkcji i konsumpcji wszy stkich krajów \\ncharakter kosmopolityczny. Ku wielkiemu żalowi reakcjonistów usunęła przemysłowi spod nóg grunt', metadata={'source': 'data/4.-kapitalizm_marks_engels_manifest-komunistyczny.pdf', 'page': 4, 'id': 'data/4.-kapitalizm_marks_engels_manifest-komunistyczny.pdf:4:9'}),\n",
       " Document(page_content='narodo wy. Odwieczne narodo we gałęzie przemysłu uległy zniszczeniu i są dalej co dzień niszczone. Są \\nwypierane przez nowe gałęz ie przemysłu, których wprowadzeni e staje się kwestią życia dla wszystk ich', metadata={'source': 'data/4.-kapitalizm_marks_engels_manifest-komunistyczny.pdf', 'page': 4, 'id': 'data/4.-kapitalizm_marks_engels_manifest-komunistyczny.pdf:4:10'}),\n",
       " Document(page_content='cywilizowanych  narodów , przez gałęzie, które przetwarzaj ą surowce już nie miejscowe, lecz sprowadz ane z \\nnajodl eglejszych stref, i których fabryk aty spożywane  są nie tylko w kraju, lecz także  we wszy stkich', metadata={'source': 'data/4.-kapitalizm_marks_engels_manifest-komunistyczny.pdf', 'page': 4, 'id': 'data/4.-kapitalizm_marks_engels_manifest-komunistyczny.pdf:4:11'}),\n",
       " Document(page_content='częściach świat a. Miejsce dawnych  potrzeb, zaspo kajanych  przez wyroby krajowe, zajmu ją nowe, których \\nzaspokojenie wyma ga produktów najodleglejszych krajów  i klimatów. Dawna lokalna  i narodowa', metadata={'source': 'data/4.-kapitalizm_marks_engels_manifest-komunistyczny.pdf', 'page': 4, 'id': 'data/4.-kapitalizm_marks_engels_manifest-komunistyczny.pdf:4:12'}),\n",
       " Document(page_content='samowystarczalnoś ć i odosobnienie ustępują miejsca wszechstronnym  stosunkom wzajemnym, \\nwszechstronne j współzależności narodów . I to zarówn o w produkcji materialnej,  jak i w produkcji', metadata={'source': 'data/4.-kapitalizm_marks_engels_manifest-komunistyczny.pdf', 'page': 4, 'id': 'data/4.-kapitalizm_marks_engels_manifest-komunistyczny.pdf:4:13'}),\n",
       " Document(page_content='duchowej. Wytwo ry duchowe poszczególnych narodó w stają  się wspólnym  dobrem. Jednostronność i \\nograniczoność narodowa staje się coraz bardzie j niemożliwa, a z wielu literatur narodowych i regionalnych \\npowstaje literatura światow a.', metadata={'source': 'data/4.-kapitalizm_marks_engels_manifest-komunistyczny.pdf', 'page': 4, 'id': 'data/4.-kapitalizm_marks_engels_manifest-komunistyczny.pdf:4:14'}),\n",
       " Document(page_content='Dzięki szybkiemu doskonaleni u wszystk ich narzędzi produkcji, dzięki niezwykłemu ułatwi eniu \\nkomunikacj i burżuazja wciąga  w nurt cywilizacji wszystk ie, nawet najbardziej barbarzyński e narody.  Niskie', metadata={'source': 'data/4.-kapitalizm_marks_engels_manifest-komunistyczny.pdf', 'page': 4, 'id': 'data/4.-kapitalizm_marks_engels_manifest-komunistyczny.pdf:4:15'}),\n",
       " Document(page_content='ceny jej towarów to owa ciężka artyle ria, za której pomocą burżuazja  burzy wszystk ie mury chińsk ie, \\nzmusza do kapitu lacji najbardziej zawziętą  nienawiść  barbarzyńcó w do cudzoziemców. Pod groźbą zagłady', metadata={'source': 'data/4.-kapitalizm_marks_engels_manifest-komunistyczny.pdf', 'page': 4, 'id': 'data/4.-kapitalizm_marks_engels_manifest-komunistyczny.pdf:4:16'}),\n",
       " Document(page_content='zniewala  wszy stkie narody  do przysw ojenia sobie burżuazyjnego  sposobu produkcji, zniewala  je do \\nwprowadzenia  u siebie tak zwanej cywilizacji, tzn. do stania się burżua. Słowem, stwarz a sobie świat na \\nobraz i podobieństwo swoje.', metadata={'source': 'data/4.-kapitalizm_marks_engels_manifest-komunistyczny.pdf', 'page': 4, 'id': 'data/4.-kapitalizm_marks_engels_manifest-komunistyczny.pdf:4:17'}),\n",
       " Document(page_content='Burżuazja podporządkował a wieś panow aniu miasta. Stwor zyła olbrzymie miast a, zwiększyła w \\nwysokim stopniu liczbę ludności miejskiej w porówna niu z wiejską i wyrwał a w ten sposób znaczną  część', metadata={'source': 'data/4.-kapitalizm_marks_engels_manifest-komunistyczny.pdf', 'page': 4, 'id': 'data/4.-kapitalizm_marks_engels_manifest-komunistyczny.pdf:4:18'}),\n",
       " Document(page_content='ludności z idiotyzm u życia wiejskiego. Podobnie jak uzależniła wieś od miast a, tak samo  uzależniła kraje \\nbarbarzyńskie  i półbarbarzyński e od krajów  cywilizowanych,  narody  chłopskie od narodów burżuazyjnych, \\nWschód od Zachodu .', metadata={'source': 'data/4.-kapitalizm_marks_engels_manifest-komunistyczny.pdf', 'page': 4, 'id': 'data/4.-kapitalizm_marks_engels_manifest-komunistyczny.pdf:4:19'}),\n",
       " Document(page_content='6 W wydaniu niemi eckim z roku 1890 zamiast  „poprzednich” (früheren): „inny ch” (anderen). – Red.7 W wydaniach z lat 1 872 i 1890: „Przez swoją eksploatację”. – Red.\\n© Studenckie Koło F ilozofii Marks istowskiej (UW)- 5 -\\nwww.skfm-uw .w.pl', metadata={'source': 'data/4.-kapitalizm_marks_engels_manifest-komunistyczny.pdf', 'page': 4, 'id': 'data/4.-kapitalizm_marks_engels_manifest-komunistyczny.pdf:4:20'}),\n",
       " Document(page_content='Karol Marks i Fryde ryk Engels  – Mani fest Partii  Komunistycz nej (1848 rok)\\nBurżuazja coraz bardzi ej likwiduje stan rozdrobnienia środków produkcji, rozdrobnienia własnośc i i', metadata={'source': 'data/4.-kapitalizm_marks_engels_manifest-komunistyczny.pdf', 'page': 5, 'id': 'data/4.-kapitalizm_marks_engels_manifest-komunistyczny.pdf:5:0'}),\n",
       " Document(page_content='rozproszenia ludności. Skupiła ona ludność, scentraliz ował a środki produkcji i skoncentrowała własność  w \\nniewielu rękach. Nieuniknionym  tego następstw em była centralizacja  polityczna. Niezależne, zaledw ie', metadata={'source': 'data/4.-kapitalizm_marks_engels_manifest-komunistyczny.pdf', 'page': 5, 'id': 'data/4.-kapitalizm_marks_engels_manifest-komunistyczny.pdf:5:1'}),\n",
       " Document(page_content='sprzymi erzone tylko z sobą prowincje o odmienny ch interesach, ustawach, rządach i systemach celnych \\nzostały zespolone w jeden naród  z jednym rządem, jedny m ustawod awstwem,  jednym narodo wym \\ninteresem klasowym, jedną granicą celną.', metadata={'source': 'data/4.-kapitalizm_marks_engels_manifest-komunistyczny.pdf', 'page': 5, 'id': 'data/4.-kapitalizm_marks_engels_manifest-komunistyczny.pdf:5:2'}),\n",
       " Document(page_content='W ciągu swego stuletniego zaledwie panowa nia klasow ego burżuazja stworzyła siły wytw órcze \\nznacznie  liczniejsze i potężniejsze niż wszystk ie poprzednie pokolenia razem . Ujarzmi enie sił przyrody,', metadata={'source': 'data/4.-kapitalizm_marks_engels_manifest-komunistyczny.pdf', 'page': 5, 'id': 'data/4.-kapitalizm_marks_engels_manifest-komunistyczny.pdf:5:3'}),\n",
       " Document(page_content='rozpowszechnienie maszyn,  zastos owanie  chemii w przemyśle i rolnictwie, żegluga parowa, koleje żelazn e, \\ntelegrafy elektryczne, przysposobienie pod upraw ę całych części świat a, uspławnieni e rzek, całe rzesze', metadata={'source': 'data/4.-kapitalizm_marks_engels_manifest-komunistyczny.pdf', 'page': 5, 'id': 'data/4.-kapitalizm_marks_engels_manifest-komunistyczny.pdf:5:4'}),\n",
       " Document(page_content='ludności jakby  wyczarowa ne spod ziemi – które z poprzednich stuleci przypuszczało, że takie  siły \\nwytw órcze drzemią w łonie pracy społecznej?\\nWidzimy  zatem : środki produkcji i wymian y, na których podłożu ukształtow ała się burżuazja,', metadata={'source': 'data/4.-kapitalizm_marks_engels_manifest-komunistyczny.pdf', 'page': 5, 'id': 'data/4.-kapitalizm_marks_engels_manifest-komunistyczny.pdf:5:5'})]"
      ]
     },
     "execution_count": 9,
     "metadata": {},
     "output_type": "execute_result"
    }
   ],
   "source": [
    "document_chunks"
   ]
  },
  {
   "cell_type": "markdown",
   "metadata": {},
   "source": [
    "Prepare database"
   ]
  },
  {
   "cell_type": "code",
   "execution_count": 10,
   "metadata": {},
   "outputs": [
    {
     "name": "stdout",
     "output_type": "stream",
     "text": [
      "Index 'rag' deleted successfully.\n"
     ]
    },
    {
     "name": "stderr",
     "output_type": "stream",
     "text": [
      "Ingesting documents: 100%|██████████| 25/25 [03:12<00:00,  7.69s/it]\n"
     ]
    }
   ],
   "source": [
    "embedding = OllamaEmbeddings(model='mistral-7b-instruct-v0.1.Q5_K_M:latest')\n",
    "\n",
    "db_kwargs = {\n",
    "    \"embedding\": embedding,\n",
    "    \"es_url\": \"http://localhost:9200\",\n",
    "    \"index_name\": \"rag\",\n",
    "    \"distance_strategy\": \"COSINE\"\n",
    "}\n",
    "\n",
    "# remove existing index if needed\n",
    "remove_index(index_name=db_kwargs[\"index_name\"], db_config={\"hosts\": db_kwargs[\"es_url\"]})\n",
    "\n",
    "db = add_documents_to_db(db=None, document_chunks=document_chunks,  db_kwargs=db_kwargs)"
   ]
  },
  {
   "cell_type": "code",
   "execution_count": 11,
   "metadata": {},
   "outputs": [
    {
     "name": "stdout",
     "output_type": "stream",
     "text": [
      "Retrieved 25 documents.\n",
      "{'text': 'pogląda mi ulegają rozkładow i, wszystkie  nowo powstałe  stają się przestarzałe,  zanim zdążą  skostnieć. \\nWszystko, co stanowe i zakrz epłe, znika, wszy stko, co święte, ulega sprofanow aniu i ludzie muszą wreszcie', 'metadata': {'source': 'data/4.-kapitalizm_marks_engels_manifest-komunistyczny.pdf', 'page': 4, 'id': 'data/4.-kapitalizm_marks_engels_manifest-komunistyczny.pdf:4:7'}}\n",
      "{'text': 'narodo wy. Odwieczne narodo we gałęzie przemysłu uległy zniszczeniu i są dalej co dzień niszczone. Są \\nwypierane przez nowe gałęz ie przemysłu, których wprowadzeni e staje się kwestią życia dla wszystk ich', 'metadata': {'source': 'data/4.-kapitalizm_marks_engels_manifest-komunistyczny.pdf', 'page': 4, 'id': 'data/4.-kapitalizm_marks_engels_manifest-komunistyczny.pdf:4:10'}}\n",
      "{'text': 'nagiego stosunku pieniężnego.\\nBurżuazja ujawniła,  że brutalne stosowanie  siły, które reakcja tak podziwia w średniowieczu, \\nznajdowało  godn e uzupełnienie w najbardzie j gnuśnym  próżniactwie . Dopiero burżuazja  pokazała, co może', 'metadata': {'source': 'data/4.-kapitalizm_marks_engels_manifest-komunistyczny.pdf', 'page': 4, 'id': 'data/4.-kapitalizm_marks_engels_manifest-komunistyczny.pdf:4:2'}}\n",
      "{'text': 'istnien ia wszy stkich dawniejszych klas przemysłowych było zachowa nie bez zmian stareg o sposobu \\nprodukcji. Ustawiczn e przewroty w produkcji, bezustanne wstrząsy  ogarni ające  całość życia społecznego,', 'metadata': {'source': 'data/4.-kapitalizm_marks_engels_manifest-komunistyczny.pdf', 'page': 4, 'id': 'data/4.-kapitalizm_marks_engels_manifest-komunistyczny.pdf:4:5'}}\n",
      "{'text': 'sprawić  ludzka działal ność. Dokonał a ona całkiem innych cudów niż zbudowanie egipskich piramid, \\nrzymskich wodociągów i gotyckich katedr,  odbyła pochody zgoła inne niż wędrówki ludów i wyprawy \\nkrzyżowe.', 'metadata': {'source': 'data/4.-kapitalizm_marks_engels_manifest-komunistyczny.pdf', 'page': 4, 'id': 'data/4.-kapitalizm_marks_engels_manifest-komunistyczny.pdf:4:3'}}\n",
      "{'text': 'cywilizowanych  narodów , przez gałęzie, które przetwarzaj ą surowce już nie miejscowe, lecz sprowadz ane z \\nnajodl eglejszych stref, i których fabryk aty spożywane  są nie tylko w kraju, lecz także  we wszy stkich', 'metadata': {'source': 'data/4.-kapitalizm_marks_engels_manifest-komunistyczny.pdf', 'page': 4, 'id': 'data/4.-kapitalizm_marks_engels_manifest-komunistyczny.pdf:4:11'}}\n",
      "{'text': 'wieczna niepewność i wieczny ruch odróżniają  epokę burżuazyjną  od wszystk ich poprzednich6. Wszy stkie \\nstężałe, zaśnied ziałe stosunki wraz  z nieodłącznymi od nich, z dawi en dawna uświęconymi pojęciami i', 'metadata': {'source': 'data/4.-kapitalizm_marks_engels_manifest-komunistyczny.pdf', 'page': 4, 'id': 'data/4.-kapitalizm_marks_engels_manifest-komunistyczny.pdf:4:6'}}\n",
      "{'text': 'Przez eksploatację7 rynku  światowego burżuazja  nadała produkcji i konsumpcji wszy stkich krajów \\ncharakter kosmopolityczny. Ku wielkiemu żalowi reakcjonistów usunęła przemysłowi spod nóg grunt', 'metadata': {'source': 'data/4.-kapitalizm_marks_engels_manifest-komunistyczny.pdf', 'page': 4, 'id': 'data/4.-kapitalizm_marks_engels_manifest-komunistyczny.pdf:4:9'}}\n",
      "{'text': 'częściach świat a. Miejsce dawnych  potrzeb, zaspo kajanych  przez wyroby krajowe, zajmu ją nowe, których \\nzaspokojenie wyma ga produktów najodleglejszych krajów  i klimatów. Dawna lokalna  i narodowa', 'metadata': {'source': 'data/4.-kapitalizm_marks_engels_manifest-komunistyczny.pdf', 'page': 4, 'id': 'data/4.-kapitalizm_marks_engels_manifest-komunistyczny.pdf:4:12'}}\n",
      "{'text': 'Burżuazja nie może istnieć bez nieustannego  rewolucjonizowani a narzędzi produkcji, a więc \\nstosunków produkcji, a więc całokształtu stosunków społecznych. Natomiast  pierwszym warunki em', 'metadata': {'source': 'data/4.-kapitalizm_marks_engels_manifest-komunistyczny.pdf', 'page': 4, 'id': 'data/4.-kapitalizm_marks_engels_manifest-komunistyczny.pdf:4:4'}}\n",
      "{'text': 'spojrzeć trzeźwym okiem na swoją pozycję życiową, na swoje wzajemne stosunki.\\nPotrzeba coraz szerszego zbytu dla jej produktów gna burżuazję po całej kuli ziemskiej. Wszędzie \\nmusi się ona zagnieździć, wszędzie zadom owić, wszędzie zadzie rzgnąć stosunki.', 'metadata': {'source': 'data/4.-kapitalizm_marks_engels_manifest-komunistyczny.pdf', 'page': 4, 'id': 'data/4.-kapitalizm_marks_engels_manifest-komunistyczny.pdf:4:8'}}\n",
      "{'text': '6 W wydaniu niemi eckim z roku 1890 zamiast  „poprzednich” (früheren): „inny ch” (anderen). – Red.7 W wydaniach z lat 1 872 i 1890: „Przez swoją eksploatację”. – Red.\\n© Studenckie Koło F ilozofii Marks istowskiej (UW)- 5 -\\nwww.skfm-uw .w.pl', 'metadata': {'source': 'data/4.-kapitalizm_marks_engels_manifest-komunistyczny.pdf', 'page': 4, 'id': 'data/4.-kapitalizm_marks_engels_manifest-komunistyczny.pdf:4:20'}}\n",
      "{'text': 'ludności z idiotyzm u życia wiejskiego. Podobnie jak uzależniła wieś od miast a, tak samo  uzależniła kraje \\nbarbarzyńskie  i półbarbarzyński e od krajów  cywilizowanych,  narody  chłopskie od narodów burżuazyjnych, \\nWschód od Zachodu .', 'metadata': {'source': 'data/4.-kapitalizm_marks_engels_manifest-komunistyczny.pdf', 'page': 4, 'id': 'data/4.-kapitalizm_marks_engels_manifest-komunistyczny.pdf:4:19'}}\n",
      "{'text': 'duchowej. Wytwo ry duchowe poszczególnych narodó w stają  się wspólnym  dobrem. Jednostronność i \\nograniczoność narodowa staje się coraz bardzie j niemożliwa, a z wielu literatur narodowych i regionalnych \\npowstaje literatura światow a.', 'metadata': {'source': 'data/4.-kapitalizm_marks_engels_manifest-komunistyczny.pdf', 'page': 4, 'id': 'data/4.-kapitalizm_marks_engels_manifest-komunistyczny.pdf:4:14'}}\n",
      "{'text': 'zniewala  wszy stkie narody  do przysw ojenia sobie burżuazyjnego  sposobu produkcji, zniewala  je do \\nwprowadzenia  u siebie tak zwanej cywilizacji, tzn. do stania się burżua. Słowem, stwarz a sobie świat na \\nobraz i podobieństwo swoje.', 'metadata': {'source': 'data/4.-kapitalizm_marks_engels_manifest-komunistyczny.pdf', 'page': 4, 'id': 'data/4.-kapitalizm_marks_engels_manifest-komunistyczny.pdf:4:17'}}\n",
      "{'text': 'ceny jej towarów to owa ciężka artyle ria, za której pomocą burżuazja  burzy wszystk ie mury chińsk ie, \\nzmusza do kapitu lacji najbardziej zawziętą  nienawiść  barbarzyńcó w do cudzoziemców. Pod groźbą zagłady', 'metadata': {'source': 'data/4.-kapitalizm_marks_engels_manifest-komunistyczny.pdf', 'page': 4, 'id': 'data/4.-kapitalizm_marks_engels_manifest-komunistyczny.pdf:4:16'}}\n",
      "{'text': 'Dzięki szybkiemu doskonaleni u wszystk ich narzędzi produkcji, dzięki niezwykłemu ułatwi eniu \\nkomunikacj i burżuazja wciąga  w nurt cywilizacji wszystk ie, nawet najbardziej barbarzyński e narody.  Niskie', 'metadata': {'source': 'data/4.-kapitalizm_marks_engels_manifest-komunistyczny.pdf', 'page': 4, 'id': 'data/4.-kapitalizm_marks_engels_manifest-komunistyczny.pdf:4:15'}}\n",
      "{'text': 'Burżuazja podporządkował a wieś panow aniu miasta. Stwor zyła olbrzymie miast a, zwiększyła w \\nwysokim stopniu liczbę ludności miejskiej w porówna niu z wiejską i wyrwał a w ten sposób znaczną  część', 'metadata': {'source': 'data/4.-kapitalizm_marks_engels_manifest-komunistyczny.pdf', 'page': 4, 'id': 'data/4.-kapitalizm_marks_engels_manifest-komunistyczny.pdf:4:18'}}\n",
      "{'text': 'samowystarczalnoś ć i odosobnienie ustępują miejsca wszechstronnym  stosunkom wzajemnym, \\nwszechstronne j współzależności narodów . I to zarówn o w produkcji materialnej,  jak i w produkcji', 'metadata': {'source': 'data/4.-kapitalizm_marks_engels_manifest-komunistyczny.pdf', 'page': 4, 'id': 'data/4.-kapitalizm_marks_engels_manifest-komunistyczny.pdf:4:13'}}\n",
      "{'text': 'Karol Marks i Fryde ryk Engels  – Mani fest Partii  Komunistycz nej (1848 rok)\\nBurżuazja coraz bardzi ej likwiduje stan rozdrobnienia środków produkcji, rozdrobnienia własnośc i i', 'metadata': {'source': 'data/4.-kapitalizm_marks_engels_manifest-komunistyczny.pdf', 'page': 5, 'id': 'data/4.-kapitalizm_marks_engels_manifest-komunistyczny.pdf:5:0'}}\n",
      "{'text': 'rozproszenia ludności. Skupiła ona ludność, scentraliz ował a środki produkcji i skoncentrowała własność  w \\nniewielu rękach. Nieuniknionym  tego następstw em była centralizacja  polityczna. Niezależne, zaledw ie', 'metadata': {'source': 'data/4.-kapitalizm_marks_engels_manifest-komunistyczny.pdf', 'page': 5, 'id': 'data/4.-kapitalizm_marks_engels_manifest-komunistyczny.pdf:5:1'}}\n",
      "{'text': 'sprzymi erzone tylko z sobą prowincje o odmienny ch interesach, ustawach, rządach i systemach celnych \\nzostały zespolone w jeden naród  z jednym rządem, jedny m ustawod awstwem,  jednym narodo wym \\ninteresem klasowym, jedną granicą celną.', 'metadata': {'source': 'data/4.-kapitalizm_marks_engels_manifest-komunistyczny.pdf', 'page': 5, 'id': 'data/4.-kapitalizm_marks_engels_manifest-komunistyczny.pdf:5:2'}}\n",
      "{'text': 'W ciągu swego stuletniego zaledwie panowa nia klasow ego burżuazja stworzyła siły wytw órcze \\nznacznie  liczniejsze i potężniejsze niż wszystk ie poprzednie pokolenia razem . Ujarzmi enie sił przyrody,', 'metadata': {'source': 'data/4.-kapitalizm_marks_engels_manifest-komunistyczny.pdf', 'page': 5, 'id': 'data/4.-kapitalizm_marks_engels_manifest-komunistyczny.pdf:5:3'}}\n",
      "{'text': 'rozpowszechnienie maszyn,  zastos owanie  chemii w przemyśle i rolnictwie, żegluga parowa, koleje żelazn e, \\ntelegrafy elektryczne, przysposobienie pod upraw ę całych części świat a, uspławnieni e rzek, całe rzesze', 'metadata': {'source': 'data/4.-kapitalizm_marks_engels_manifest-komunistyczny.pdf', 'page': 5, 'id': 'data/4.-kapitalizm_marks_engels_manifest-komunistyczny.pdf:5:4'}}\n",
      "{'text': 'ludności jakby  wyczarowa ne spod ziemi – które z poprzednich stuleci przypuszczało, że takie  siły \\nwytw órcze drzemią w łonie pracy społecznej?\\nWidzimy  zatem : środki produkcji i wymian y, na których podłożu ukształtow ała się burżuazja,', 'metadata': {'source': 'data/4.-kapitalizm_marks_engels_manifest-komunistyczny.pdf', 'page': 5, 'id': 'data/4.-kapitalizm_marks_engels_manifest-komunistyczny.pdf:5:5'}}\n"
     ]
    }
   ],
   "source": [
    "fetch_all(\n",
    "    index_name=db_kwargs[\"index_name\"],\n",
    "    db_config={\"hosts\": db_kwargs[\"es_url\"]},\n",
    ")"
   ]
  },
  {
   "cell_type": "markdown",
   "metadata": {},
   "source": [
    "Prompt rag"
   ]
  },
  {
   "cell_type": "code",
   "execution_count": 12,
   "metadata": {},
   "outputs": [
    {
     "name": "stdout",
     "output_type": "stream",
     "text": [
      "Human: \n",
      "    Odpowiedz na pytanie bazując tylko na poniższym kontekście:\n",
      "\n",
      "    zniewala  wszy stkie narody  do przysw ojenia sobie burżuazyjnego  sposobu produkcji, zniewala  je do \n",
      "wprowadzenia  u siebie tak zwanej cywilizacji, tzn. do stania się burżua. Słowem, stwarz a sobie świat na \n",
      "obraz i podobieństwo swoje.\n",
      "\n",
      "---\n",
      "\n",
      "duchowej. Wytwo ry duchowe poszczególnych narodó w stają  się wspólnym  dobrem. Jednostronność i \n",
      "ograniczoność narodowa staje się coraz bardzie j niemożliwa, a z wielu literatur narodowych i regionalnych \n",
      "powstaje literatura światow a.\n",
      "\n",
      "---\n",
      "\n",
      "sprawić  ludzka działal ność. Dokonał a ona całkiem innych cudów niż zbudowanie egipskich piramid, \n",
      "rzymskich wodociągów i gotyckich katedr,  odbyła pochody zgoła inne niż wędrówki ludów i wyprawy \n",
      "krzyżowe.\n",
      "\n",
      "---\n",
      "\n",
      "ludności z idiotyzm u życia wiejskiego. Podobnie jak uzależniła wieś od miast a, tak samo  uzależniła kraje \n",
      "barbarzyńskie  i półbarbarzyński e od krajów  cywilizowanych,  narody  chłopskie od narodów burżuazyjnych, \n",
      "Wschód od Zachodu .\n",
      "\n",
      "---\n",
      "\n",
      "spojrzeć trzeźwym okiem na swoją pozycję życiową, na swoje wzajemne stosunki.\n",
      "Potrzeba coraz szerszego zbytu dla jej produktów gna burżuazję po całej kuli ziemskiej. Wszędzie \n",
      "musi się ona zagnieździć, wszędzie zadom owić, wszędzie zadzie rzgnąć stosunki.\n",
      "\n",
      "    ---\n",
      "\n",
      "    Odpowiedz na to pytanie bazując na powyższym kontekście: Czemu winna jest burżuazja?\n",
      "    Odpowiedz w języku polskim\n",
      "    \n",
      "Odpowiedź: Assistant: Burżuazja winna z powodu swojej wielkości, szerszości i dążki do dominacji nad innymi społecznościami.\\Źródła: ['data/4.-kapitalizm_marks_engels_manifest-komunistyczny.pdf:4:17', 'data/4.-kapitalizm_marks_engels_manifest-komunistyczny.pdf:4:14', 'data/4.-kapitalizm_marks_engels_manifest-komunistyczny.pdf:4:3', 'data/4.-kapitalizm_marks_engels_manifest-komunistyczny.pdf:4:19', 'data/4.-kapitalizm_marks_engels_manifest-komunistyczny.pdf:4:8']\n"
     ]
    }
   ],
   "source": [
    "model = Ollama(model='mistral-7b-instruct-v0.1.Q5_K_M:latest')\n",
    "\n",
    "response = rag_prompt(\n",
    "    query = \"Czemu winna jest burżuazja?\",\n",
    "    model=model,\n",
    "    db=db,\n",
    ")\n",
    "\n",
    "# remove_document(\n",
    "#     index_name=db_kwargs[\"index_name\"],\n",
    "#     source_file=\"\",\n",
    "#     db_config={\"hosts\": db_kwargs[\"es_url\"]},\n",
    "#     )\n"
   ]
  }
 ],
 "metadata": {
  "kernelspec": {
   "display_name": ".venv_wdzd",
   "language": "python",
   "name": "python3"
  },
  "language_info": {
   "codemirror_mode": {
    "name": "ipython",
    "version": 3
   },
   "file_extension": ".py",
   "mimetype": "text/x-python",
   "name": "python",
   "nbconvert_exporter": "python",
   "pygments_lexer": "ipython3",
   "version": "3.10.12"
  }
 },
 "nbformat": 4,
 "nbformat_minor": 2
}
